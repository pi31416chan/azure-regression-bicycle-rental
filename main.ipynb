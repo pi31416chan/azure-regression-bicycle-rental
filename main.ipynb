{
 "cells": [
  {
   "cell_type": "markdown",
   "metadata": {},
   "source": [
    "# Regression Bicycle"
   ]
  },
  {
   "cell_type": "markdown",
   "metadata": {},
   "source": [
    "## Initialization"
   ]
  },
  {
   "cell_type": "markdown",
   "metadata": {},
   "source": [
    "### Import"
   ]
  },
  {
   "cell_type": "code",
   "execution_count": 2,
   "metadata": {},
   "outputs": [],
   "source": [
    "from datetime import datetime\n",
    "from os.path import dirname\n",
    "from pathlib import Path\n",
    "\n",
    "import mltable\n",
    "from azure.ai.ml import Input, Output, load_component, load_job\n",
    "from azure.ai.ml.constants import AssetTypes\n",
    "from azure.ai.ml.dsl import pipeline\n",
    "from azure.ai.ml.entities import Environment\n",
    "from azure.ai.ml.sweep import Choice\n",
    "from script.ml_base import COMPONENT_PATH, ml_client\n"
   ]
  },
  {
   "cell_type": "markdown",
   "metadata": {},
   "source": [
    "### Configuration"
   ]
  },
  {
   "cell_type": "code",
   "execution_count": 3,
   "metadata": {},
   "outputs": [],
   "source": [
    "pwd = %pwd\n",
    "PROJECT_DIR = Path(pwd)\n",
    "SCRIPT_DIR = PROJECT_DIR / \"script\"\n",
    "JOB_DIR = SCRIPT_DIR / \"job\"\n",
    "COMPONENT_DIR = SCRIPT_DIR / \"component\"\n",
    "ENVIRONMENT_DIR = SCRIPT_DIR / \"environment\"\n",
    "DATA_DIR = PROJECT_DIR / \"data\"\n",
    "OUTPUT_DIR = PROJECT_DIR / \"output\"\n",
    "MODEL_DIR = PROJECT_DIR / \"model\"\n"
   ]
  },
  {
   "cell_type": "markdown",
   "metadata": {},
   "source": [
    "## Environment"
   ]
  },
  {
   "cell_type": "code",
   "execution_count": null,
   "metadata": {},
   "outputs": [],
   "source": []
  },
  {
   "cell_type": "markdown",
   "metadata": {},
   "source": [
    "## Component"
   ]
  },
  {
   "cell_type": "code",
   "execution_count": null,
   "metadata": {},
   "outputs": [],
   "source": []
  },
  {
   "cell_type": "markdown",
   "metadata": {},
   "source": [
    "## Pipeline"
   ]
  },
  {
   "cell_type": "markdown",
   "metadata": {},
   "source": [
    "### Load Component"
   ]
  },
  {
   "cell_type": "markdown",
   "metadata": {},
   "source": [
    "#### Drop Column"
   ]
  },
  {
   "cell_type": "code",
   "execution_count": 7,
   "metadata": {},
   "outputs": [],
   "source": [
    "drop_column = load_component(COMPONENT_DIR / \"drop_column.yml\")\n"
   ]
  },
  {
   "cell_type": "markdown",
   "metadata": {},
   "source": [
    "#### Split Xy"
   ]
  },
  {
   "cell_type": "code",
   "execution_count": 8,
   "metadata": {},
   "outputs": [],
   "source": [
    "split_x_y = load_component(COMPONENT_DIR / \"split_x_y.yml\")\n"
   ]
  },
  {
   "cell_type": "markdown",
   "metadata": {},
   "source": [
    "#### Split Train Test"
   ]
  },
  {
   "cell_type": "code",
   "execution_count": 9,
   "metadata": {},
   "outputs": [],
   "source": [
    "split_train_test = load_component(COMPONENT_DIR / \"split_train_test.yml\")\n"
   ]
  },
  {
   "cell_type": "markdown",
   "metadata": {},
   "source": [
    "#### Linear Regression Model"
   ]
  },
  {
   "cell_type": "code",
   "execution_count": 10,
   "metadata": {},
   "outputs": [],
   "source": [
    "linear_regression = load_component(COMPONENT_DIR / \"linear_regression.yml\")\n"
   ]
  },
  {
   "cell_type": "markdown",
   "metadata": {},
   "source": [
    "### Bicycle Train Linear Regression"
   ]
  },
  {
   "cell_type": "markdown",
   "metadata": {},
   "source": [
    "#### Build Pipeline"
   ]
  },
  {
   "cell_type": "code",
   "execution_count": 11,
   "metadata": {},
   "outputs": [],
   "source": [
    "@pipeline(\n",
    "    name=\"bicycle-train-linear-regression\",\n",
    "    display_name=\"Bicycle Train Linear Regression\",\n",
    "    description=\"Pipeline to train a linear regression model to predict bycicle rentals\",\n",
    "    experiment_name=\"regression-bicycle\",\n",
    "    tags={\"project\": \"regression-bicycle\"},\n",
    ")\n",
    "def bicycle_train_l_reg(\n",
    "    mltable_dataset,\n",
    "    drop_col: str = \"dteday,yr,hum,windspeed\",\n",
    "    label: str = \"rentals\",\n",
    "    test_size: float = 0.25,\n",
    "    shuffle: bool = True,\n",
    "    fit_intercept: bool = True,\n",
    "):\n",
    "    dropped_col_data = drop_column(\n",
    "        input_data=mltable_dataset,\n",
    "        drop_col=drop_col,\n",
    "    )\n",
    "    xy_data = split_x_y(\n",
    "        input_data=dropped_col_data.outputs.dropped_col_data,\n",
    "        label=label,\n",
    "    )\n",
    "    train_test_data = split_train_test(\n",
    "        input_data=xy_data.outputs.x_y_data,\n",
    "        test_size=test_size,\n",
    "        shuffle=shuffle,\n",
    "    )\n",
    "    l_reg_model = linear_regression(\n",
    "        input_data=train_test_data.outputs.train_test_data,\n",
    "        fit_intercept=fit_intercept,\n",
    "    )\n",
    "\n",
    "    return {\"l_reg_model\": l_reg_model.outputs.l_reg_model}\n"
   ]
  },
  {
   "cell_type": "markdown",
   "metadata": {},
   "source": [
    "#### Configure Pipeline"
   ]
  },
  {
   "cell_type": "code",
   "execution_count": 13,
   "metadata": {},
   "outputs": [],
   "source": [
    "pipeline_job = bicycle_train_l_reg(\n",
    "    mltable_dataset=Input(\n",
    "        type=AssetTypes.MLTABLE,\n",
    "        path=\"azureml:daily-bike-share:2\",\n",
    "    ),\n",
    "    drop_col=\"dteday,yr,hum,windspeed\",\n",
    "    label=\"rentals\",\n",
    "    test_size=0.25,\n",
    "    shuffle=True,\n",
    "    fit_intercept=True,\n",
    ")\n"
   ]
  },
  {
   "cell_type": "code",
   "execution_count": 14,
   "metadata": {},
   "outputs": [
    {
     "name": "stderr",
     "output_type": "stream",
     "text": [
      "Class AutoDeleteSettingSchema: This is an experimental class, and may change at any time. Please see https://aka.ms/azuremlexperimental for more information.\n",
      "Class AutoDeleteConditionSchema: This is an experimental class, and may change at any time. Please see https://aka.ms/azuremlexperimental for more information.\n",
      "Class BaseAutoDeleteSettingSchema: This is an experimental class, and may change at any time. Please see https://aka.ms/azuremlexperimental for more information.\n"
     ]
    },
    {
     "name": "stderr",
     "output_type": "stream",
     "text": [
      "Class IntellectualPropertySchema: This is an experimental class, and may change at any time. Please see https://aka.ms/azuremlexperimental for more information.\n",
      "Class ProtectionLevelSchema: This is an experimental class, and may change at any time. Please see https://aka.ms/azuremlexperimental for more information.\n",
      "Class BaseIntellectualPropertySchema: This is an experimental class, and may change at any time. Please see https://aka.ms/azuremlexperimental for more information.\n"
     ]
    },
    {
     "name": "stdout",
     "output_type": "stream",
     "text": [
      "display_name: Bicycle Train Linear Regression\n",
      "description: Pipeline to train a linear regression model to predict bycicle rentals\n",
      "tags:\n",
      "  project: regression-bicycle\n",
      "type: pipeline\n",
      "inputs:\n",
      "  drop_col: dteday,yr,hum,windspeed\n",
      "  label: rentals\n",
      "  test_size: 0.25\n",
      "  shuffle: 1\n",
      "  fit_intercept: 1\n",
      "  mltable_dataset:\n",
      "    type: mltable\n",
      "    path: azureml:daily-bike-share:2\n",
      "outputs:\n",
      "  l_reg_model:\n",
      "    mode: upload\n",
      "    type: mlflow_model\n",
      "jobs:\n",
      "  dropped_col_data:\n",
      "    type: command\n",
      "    inputs:\n",
      "      input_data:\n",
      "        path: ${{parent.inputs.mltable_dataset}}\n",
      "      drop_col:\n",
      "        path: ${{parent.inputs.drop_col}}\n",
      "    component:\n",
      "      $schema: https://azuremlschemas.azureedge.net/latest/commandComponent.schema.json\n",
      "      name: drop_column\n",
      "      version: '5'\n",
      "      display_name: Drop Columns\n",
      "      description: Drop specified columns from input dataset\n",
      "      tags:\n",
      "        project: regression-bicycle\n",
      "      type: command\n",
      "      inputs:\n",
      "        input_data:\n",
      "          type: mltable\n",
      "          description: Input dataset URI\n",
      "          mode: direct\n",
      "        drop_col:\n",
      "          type: string\n",
      "          default: hum,windspeed\n",
      "          description: Columns to be dropped, separated by comma\n",
      "      outputs:\n",
      "        dropped_col_data:\n",
      "          type: uri_folder\n",
      "          description: Output datastore folder URI\n",
      "          mode: rw_mount\n",
      "      command: python drop_column.py  --input_data ${{inputs.input_data}} --output_data\n",
      "        ${{outputs.dropped_col_data}} --drop_col ${{inputs.drop_col}}\n",
      "      environment: azureml:basic:1\n",
      "      code: /home/chanxingwei/Documents/learn/azure/project/regression-bicycle/script/component/src/drop_column.py\n",
      "      is_deterministic: true\n",
      "  xy_data:\n",
      "    type: command\n",
      "    inputs:\n",
      "      input_data:\n",
      "        path: ${{parent.jobs.dropped_col_data.outputs.dropped_col_data}}\n",
      "      label:\n",
      "        path: ${{parent.inputs.label}}\n",
      "    component:\n",
      "      $schema: https://azuremlschemas.azureedge.net/latest/commandComponent.schema.json\n",
      "      name: split_x_y\n",
      "      version: '3'\n",
      "      display_name: Split X y\n",
      "      description: Split the dataset into X and y with the given y label\n",
      "      tags:\n",
      "        project: regression-bicycle\n",
      "      type: command\n",
      "      inputs:\n",
      "        input_data:\n",
      "          type: uri_folder\n",
      "          description: Input datastore folder URI\n",
      "          mode: ro_mount\n",
      "        label:\n",
      "          type: string\n",
      "          default: rentals\n",
      "          description: Column to split as the label, y\n",
      "      outputs:\n",
      "        x_y_data:\n",
      "          type: uri_folder\n",
      "          description: Output datastore folder URI\n",
      "          mode: rw_mount\n",
      "      command: python split_x_y.py  --input_data ${{inputs.input_data}} --output_data\n",
      "        ${{outputs.x_y_data}} --label ${{inputs.label}}\n",
      "      environment: azureml:basic:1\n",
      "      code: /home/chanxingwei/Documents/learn/azure/project/regression-bicycle/script/component/src/split_x_y.py\n",
      "      is_deterministic: true\n",
      "  train_test_data:\n",
      "    type: command\n",
      "    inputs:\n",
      "      input_data:\n",
      "        path: ${{parent.jobs.xy_data.outputs.x_y_data}}\n",
      "      test_size:\n",
      "        path: ${{parent.inputs.test_size}}\n",
      "      shuffle:\n",
      "        path: ${{parent.inputs.shuffle}}\n",
      "    component:\n",
      "      $schema: https://azuremlschemas.azureedge.net/latest/commandComponent.schema.json\n",
      "      name: split_train_test\n",
      "      version: '3'\n",
      "      display_name: Split Train Test\n",
      "      description: Split the Xy dataset into X_train, X_test, y_train, y_test according\n",
      "        to specified proportion\n",
      "      tags:\n",
      "        project: regression-bicycle\n",
      "      type: command\n",
      "      inputs:\n",
      "        input_data:\n",
      "          type: uri_folder\n",
      "          description: Input datastore folder URI\n",
      "          mode: ro_mount\n",
      "        test_size:\n",
      "          type: number\n",
      "          default: '0.25'\n",
      "          description: Float between 0.0 and 1.0 and represent the proportion of the\n",
      "            dataset to include in the test split. If None, default to 0.25\n",
      "        shuffle:\n",
      "          type: boolean\n",
      "          default: 'True'\n",
      "          description: Whether or not to shuffle the data before splitting. Default\n",
      "            to True\n",
      "      outputs:\n",
      "        train_test_data:\n",
      "          type: uri_folder\n",
      "          description: Output datastore folder URI\n",
      "          mode: rw_mount\n",
      "      command: python split_train_test.py  --input_data ${{inputs.input_data}} --output_data\n",
      "        ${{outputs.train_test_data}} --test_size ${{inputs.test_size}} --shuffle ${{inputs.shuffle}}\n",
      "      environment: azureml:sklearn:8\n",
      "      code: /home/chanxingwei/Documents/learn/azure/project/regression-bicycle/script/component/src/split_train_test.py\n",
      "      is_deterministic: true\n",
      "  l_reg_model:\n",
      "    type: command\n",
      "    inputs:\n",
      "      input_data:\n",
      "        path: ${{parent.jobs.train_test_data.outputs.train_test_data}}\n",
      "      fit_intercept:\n",
      "        path: ${{parent.inputs.fit_intercept}}\n",
      "    outputs:\n",
      "      l_reg_model: ${{parent.outputs.l_reg_model}}\n",
      "    component:\n",
      "      $schema: https://azuremlschemas.azureedge.net/latest/commandComponent.schema.json\n",
      "      name: linear_regression\n",
      "      version: '6'\n",
      "      display_name: Linear Regression\n",
      "      description: Train a linear regression model and evaluate its performance\n",
      "      tags:\n",
      "        project: regression-bicycle\n",
      "      type: command\n",
      "      inputs:\n",
      "        input_data:\n",
      "          type: uri_folder\n",
      "          description: Input datastore folder URI\n",
      "          mode: ro_mount\n",
      "        fit_intercept:\n",
      "          type: boolean\n",
      "          default: 'True'\n",
      "          description: Whether to calculate the intercept for this model\n",
      "      outputs:\n",
      "        l_reg_model:\n",
      "          type: mlflow_model\n",
      "          description: Output MLflow model\n",
      "          mode: rw_mount\n",
      "      command: python linear_regression.py  --input_data ${{inputs.input_data}} --output_data\n",
      "        ${{outputs.l_reg_model}} --fit_intercept ${{inputs.fit_intercept}}\n",
      "      environment: azureml:sklearn:8\n",
      "      code: /home/chanxingwei/Documents/learn/azure/project/regression-bicycle/script/component/src/linear_regression.py\n",
      "      is_deterministic: true\n",
      "experiment_name: regression-bicycle\n",
      "settings:\n",
      "  default_datastore: azureml:workspaceblobstore\n",
      "  default_compute: azureml:mlw-basic-cluster-fef66d1bb2\n",
      "\n"
     ]
    }
   ],
   "source": [
    "pipeline_job.outputs.l_reg_model.mode = \"upload\"\n",
    "pipeline_job.settings.default_compute = \"mlw-basic-cluster-fef66d1bb2\"\n",
    "pipeline_job.settings.default_datastore = \"workspaceblobstore\"\n",
    "\n",
    "print(pipeline_job)\n"
   ]
  },
  {
   "cell_type": "markdown",
   "metadata": {},
   "source": [
    "#### Submit Pipeline"
   ]
  },
  {
   "cell_type": "code",
   "execution_count": 18,
   "metadata": {},
   "outputs": [
    {
     "data": {
      "text/html": [
       "<table style=\"width:100%\"><tr><th>Experiment</th><th>Name</th><th>Type</th><th>Status</th><th>Details Page</th></tr><tr><td>regression-bicycle</td><td>loyal_feijoa_1rr8fp0j6j</td><td>pipeline</td><td>Preparing</td><td><a href=\"https://ml.azure.com/runs/loyal_feijoa_1rr8fp0j6j?wsid=/subscriptions/dff77bc1-b5fa-4ee5-8789-1b3e3cad1cde/resourcegroups/dp-100/workspaces/mlw-basic-fef66d1bb2&amp;tid=351e7623-3cdf-4b6d-a023-05accd36a0d4\" target=\"_blank\" rel=\"noopener\">Link to Azure Machine Learning studio</a></td></tr></table>"
      ],
      "text/plain": [
       "PipelineJob({'inputs': {'drop_col': <azure.ai.ml.entities._job.pipeline._io.base.PipelineInput object at 0x7f934226eb90>, 'label': <azure.ai.ml.entities._job.pipeline._io.base.PipelineInput object at 0x7f934226ebc0>, 'test_size': <azure.ai.ml.entities._job.pipeline._io.base.PipelineInput object at 0x7f934226f100>, 'shuffle': <azure.ai.ml.entities._job.pipeline._io.base.PipelineInput object at 0x7f934226f130>, 'fit_intercept': <azure.ai.ml.entities._job.pipeline._io.base.PipelineInput object at 0x7f934226f160>, 'mltable_dataset': <azure.ai.ml.entities._job.pipeline._io.base.PipelineInput object at 0x7f934226f190>}, 'outputs': {'l_reg_model': <azure.ai.ml.entities._job.pipeline._io.base.PipelineOutput object at 0x7f934226f1c0>}, 'jobs': {}, 'component': PipelineComponent({'intellectual_property': None, 'auto_increment_version': False, 'source': 'REMOTE.WORKSPACE.JOB', 'is_anonymous': True, 'auto_delete_setting': None, 'name': 'azureml_anonymous', 'description': 'Pipeline to train a linear regression model to predict bycicle rentals', 'tags': {}, 'properties': {}, 'print_as_yaml': True, 'id': None, 'Resource__source_path': None, 'base_path': '/home/chanxingwei/Documents/learn/azure/project/regression-bicycle', 'creation_context': None, 'serialize': <msrest.serialization.Serializer object at 0x7f93423910f0>, 'version': '1', 'latest_version': None, 'schema': None, 'type': 'pipeline', 'display_name': 'Bicycle Train Linear Regression', 'is_deterministic': None, 'inputs': {'drop_col': {}, 'label': {}, 'test_size': {}, 'shuffle': {}, 'fit_intercept': {}, 'mltable_dataset': {}}, 'outputs': {'l_reg_model': {}}, 'yaml_str': None, 'other_parameter': {}, 'jobs': {'dropped_col_data': Command({'parameters': {}, 'init': False, 'name': 'dropped_col_data', 'type': 'command', 'status': None, 'log_files': None, 'description': None, 'tags': {}, 'properties': {}, 'print_as_yaml': True, 'id': None, 'Resource__source_path': None, 'base_path': '/home/chanxingwei/Documents/learn/azure/project/regression-bicycle', 'creation_context': None, 'serialize': <msrest.serialization.Serializer object at 0x7f93423f1600>, 'allowed_keys': {}, 'key_restriction': False, 'logger': <Logger attr_dict (WARNING)>, 'display_name': None, 'experiment_name': None, 'compute': None, 'services': None, 'comment': None, 'job_inputs': {'input_data': '${{parent.inputs.mltable_dataset}}', 'drop_col': '${{parent.inputs.drop_col}}'}, 'job_outputs': {}, 'inputs': {'input_data': <azure.ai.ml.entities._job.pipeline._io.base.NodeInput object at 0x7f93423f1870>, 'drop_col': <azure.ai.ml.entities._job.pipeline._io.base.NodeInput object at 0x7f93423f16c0>}, 'outputs': {}, 'component': 'azureml_anonymous:dbe1f819-e371-4fcd-a3e8-b78d29188750', 'referenced_control_flow_node_instance_id': None, 'kwargs': {'services': None}, 'instance_id': 'e6695dc8-dbf6-4301-93ca-9027520d241b', 'source': 'REMOTE.WORKSPACE.COMPONENT', 'validate_required_input_not_provided': True, 'limits': None, 'identity': None, 'distribution': None, 'environment_variables': {}, 'environment': None, 'resources': None, 'queue_settings': None, 'swept': False}), 'xy_data': Command({'parameters': {}, 'init': False, 'name': 'xy_data', 'type': 'command', 'status': None, 'log_files': None, 'description': None, 'tags': {}, 'properties': {}, 'print_as_yaml': True, 'id': None, 'Resource__source_path': None, 'base_path': '/home/chanxingwei/Documents/learn/azure/project/regression-bicycle', 'creation_context': None, 'serialize': <msrest.serialization.Serializer object at 0x7f93423f17e0>, 'allowed_keys': {}, 'key_restriction': False, 'logger': <Logger attr_dict (WARNING)>, 'display_name': None, 'experiment_name': None, 'compute': None, 'services': None, 'comment': None, 'job_inputs': {'input_data': '${{parent.jobs.dropped_col_data.outputs.dropped_col_data}}', 'label': '${{parent.inputs.label}}'}, 'job_outputs': {}, 'inputs': {'input_data': <azure.ai.ml.entities._job.pipeline._io.base.NodeInput object at 0x7f93423f3880>, 'label': <azure.ai.ml.entities._job.pipeline._io.base.NodeInput object at 0x7f93423f1900>}, 'outputs': {}, 'component': 'azureml_anonymous:0a51e27e-247a-4cfb-b4a8-a87659fd53e0', 'referenced_control_flow_node_instance_id': None, 'kwargs': {'services': None}, 'instance_id': 'c6dbafd5-ca20-412e-babf-c7332e7475bf', 'source': 'REMOTE.WORKSPACE.COMPONENT', 'validate_required_input_not_provided': True, 'limits': None, 'identity': None, 'distribution': None, 'environment_variables': {}, 'environment': None, 'resources': None, 'queue_settings': None, 'swept': False}), 'train_test_data': Command({'parameters': {}, 'init': False, 'name': 'train_test_data', 'type': 'command', 'status': None, 'log_files': None, 'description': None, 'tags': {}, 'properties': {}, 'print_as_yaml': True, 'id': None, 'Resource__source_path': None, 'base_path': '/home/chanxingwei/Documents/learn/azure/project/regression-bicycle', 'creation_context': None, 'serialize': <msrest.serialization.Serializer object at 0x7f93423f38b0>, 'allowed_keys': {}, 'key_restriction': False, 'logger': <Logger attr_dict (WARNING)>, 'display_name': None, 'experiment_name': None, 'compute': None, 'services': None, 'comment': None, 'job_inputs': {'input_data': '${{parent.jobs.xy_data.outputs.x_y_data}}', 'test_size': '${{parent.inputs.test_size}}', 'shuffle': '${{parent.inputs.shuffle}}'}, 'job_outputs': {}, 'inputs': {'input_data': <azure.ai.ml.entities._job.pipeline._io.base.NodeInput object at 0x7f93423f00a0>, 'test_size': <azure.ai.ml.entities._job.pipeline._io.base.NodeInput object at 0x7f93423f3970>, 'shuffle': <azure.ai.ml.entities._job.pipeline._io.base.NodeInput object at 0x7f93423f03d0>}, 'outputs': {}, 'component': 'azureml_anonymous:555078a0-6365-40e9-b7f4-3ac8a0b500e0', 'referenced_control_flow_node_instance_id': None, 'kwargs': {'services': None}, 'instance_id': '72065169-d65c-45c3-b020-4c591cf6f6c6', 'source': 'REMOTE.WORKSPACE.COMPONENT', 'validate_required_input_not_provided': True, 'limits': None, 'identity': None, 'distribution': None, 'environment_variables': {}, 'environment': None, 'resources': None, 'queue_settings': None, 'swept': False}), 'l_reg_model': Command({'parameters': {}, 'init': False, 'name': 'l_reg_model', 'type': 'command', 'status': None, 'log_files': None, 'description': None, 'tags': {}, 'properties': {}, 'print_as_yaml': True, 'id': None, 'Resource__source_path': None, 'base_path': '/home/chanxingwei/Documents/learn/azure/project/regression-bicycle', 'creation_context': None, 'serialize': <msrest.serialization.Serializer object at 0x7f93423f1360>, 'allowed_keys': {}, 'key_restriction': False, 'logger': <Logger attr_dict (WARNING)>, 'display_name': None, 'experiment_name': None, 'compute': None, 'services': None, 'comment': None, 'job_inputs': {'input_data': '${{parent.jobs.train_test_data.outputs.train_test_data}}', 'fit_intercept': '${{parent.inputs.fit_intercept}}'}, 'job_outputs': {'l_reg_model': '${{parent.outputs.l_reg_model}}'}, 'inputs': {'input_data': <azure.ai.ml.entities._job.pipeline._io.base.NodeInput object at 0x7f93423f14e0>, 'fit_intercept': <azure.ai.ml.entities._job.pipeline._io.base.NodeInput object at 0x7f9342391480>}, 'outputs': {'l_reg_model': <azure.ai.ml.entities._job.pipeline._io.base.NodeOutput object at 0x7f93423f00d0>}, 'component': 'azureml_anonymous:e78cadbe-9180-4786-ac2f-b10ea5b70f5b', 'referenced_control_flow_node_instance_id': None, 'kwargs': {'services': None}, 'instance_id': 'bf8bc3f8-4752-4d6d-8cfa-8cac85587235', 'source': 'REMOTE.WORKSPACE.COMPONENT', 'validate_required_input_not_provided': True, 'limits': None, 'identity': None, 'distribution': None, 'environment_variables': {}, 'environment': None, 'resources': None, 'queue_settings': None, 'swept': False})}, 'job_types': {'command': 4}, 'job_sources': {'REMOTE.WORKSPACE.COMPONENT': 4}, 'source_job_id': None}), 'type': 'pipeline', 'status': 'Preparing', 'log_files': None, 'name': 'loyal_feijoa_1rr8fp0j6j', 'description': 'Pipeline to train a linear regression model to predict bycicle rentals', 'tags': {'project': 'regression-bicycle'}, 'properties': {'azureml.DevPlatv2': 'true', 'azureml.DatasetAccessMode': 'Asset', 'azureml.runsource': 'azureml.PipelineRun', 'runSource': 'MFE', 'runType': 'HTTP', 'azureml.parameters': '{\"drop_col\":\"dteday,yr,hum,windspeed\",\"label\":\"rentals\",\"test_size\":\"<azure.ai.ml.entities._job.sweep.search_space.Choice object at 0x7f9342997eb0>\",\"shuffle\":\"True\",\"fit_intercept\":\"True\"}', 'azureml.continue_on_step_failure': 'True', 'azureml.continue_on_failed_optional_input': 'True', 'azureml.enforceRerun': 'False', 'azureml.defaultComputeName': 'mlw-basic-cluster-fef66d1bb2', 'azureml.defaultDataStoreName': 'workspaceblobstore', 'azureml.pipelineComponent': 'pipelinerun'}, 'print_as_yaml': True, 'id': '/subscriptions/dff77bc1-b5fa-4ee5-8789-1b3e3cad1cde/resourceGroups/dp-100/providers/Microsoft.MachineLearningServices/workspaces/mlw-basic-fef66d1bb2/jobs/loyal_feijoa_1rr8fp0j6j', 'Resource__source_path': None, 'base_path': '/home/chanxingwei/Documents/learn/azure/project/regression-bicycle', 'creation_context': <azure.ai.ml.entities._system_data.SystemData object at 0x7f9342390f40>, 'serialize': <msrest.serialization.Serializer object at 0x7f934226f220>, 'display_name': 'Bicycle Train Linear Regression', 'experiment_name': 'regression-bicycle', 'compute': None, 'services': {'Tracking': {'endpoint': 'azureml://eastus.api.azureml.ms/mlflow/v1.0/subscriptions/dff77bc1-b5fa-4ee5-8789-1b3e3cad1cde/resourceGroups/dp-100/providers/Microsoft.MachineLearningServices/workspaces/mlw-basic-fef66d1bb2?', 'type': 'Tracking'}, 'Studio': {'endpoint': 'https://ml.azure.com/runs/loyal_feijoa_1rr8fp0j6j?wsid=/subscriptions/dff77bc1-b5fa-4ee5-8789-1b3e3cad1cde/resourcegroups/dp-100/workspaces/mlw-basic-fef66d1bb2&tid=351e7623-3cdf-4b6d-a023-05accd36a0d4', 'type': 'Studio'}}, 'settings': {}, 'identity': None, 'default_code': None, 'default_environment': None})"
      ]
     },
     "execution_count": 18,
     "metadata": {},
     "output_type": "execute_result"
    }
   ],
   "source": [
    "pipeline_job = ml_client.jobs.create_or_update(pipeline_job)\n",
    "pipeline_job\n"
   ]
  },
  {
   "cell_type": "markdown",
   "metadata": {},
   "source": [
    "## Job"
   ]
  },
  {
   "cell_type": "markdown",
   "metadata": {},
   "source": [
    "### Train Ridge Regression"
   ]
  },
  {
   "cell_type": "code",
   "execution_count": 20,
   "metadata": {},
   "outputs": [],
   "source": [
    "ridge_reg_job = load_job(source=JOB_DIR / \"ridge_regression.yml\")\n"
   ]
  },
  {
   "cell_type": "markdown",
   "metadata": {},
   "source": [
    "#### Submit Job"
   ]
  },
  {
   "cell_type": "code",
   "execution_count": 21,
   "metadata": {},
   "outputs": [
    {
     "data": {
      "text/html": [
       "<table style=\"width:100%\"><tr><th>Experiment</th><th>Name</th><th>Type</th><th>Status</th><th>Details Page</th></tr><tr><td>ridge-regression</td><td>ridge-regression-20231118201023</td><td>command</td><td>Starting</td><td><a href=\"https://ml.azure.com/runs/ridge-regression-20231118201023?wsid=/subscriptions/dff77bc1-b5fa-4ee5-8789-1b3e3cad1cde/resourcegroups/dp-100/workspaces/mlw-basic-fef66d1bb2&amp;tid=351e7623-3cdf-4b6d-a023-05accd36a0d4\" target=\"_blank\" rel=\"noopener\">Link to Azure Machine Learning studio</a></td></tr></table>"
      ],
      "text/plain": [
       "Command({'parameters': {}, 'init': False, 'name': 'ridge-regression-20231118201023', 'type': 'command', 'status': 'Starting', 'log_files': None, 'description': 'Job to train a Ridge Regression model to predict bicycle rentals', 'tags': {'project': 'regression-bicycle'}, 'properties': {'_azureml.ComputeTargetType': 'amlctrain', 'ContentSnapshotId': '08e09bff-1111-4675-bb8f-cae0a57bed9f'}, 'print_as_yaml': True, 'id': '/subscriptions/dff77bc1-b5fa-4ee5-8789-1b3e3cad1cde/resourceGroups/dp-100/providers/Microsoft.MachineLearningServices/workspaces/mlw-basic-fef66d1bb2/jobs/ridge-regression-20231118201023', 'Resource__source_path': None, 'base_path': '/home/chanxingwei/Documents/learn/azure/project/regression-bicycle', 'creation_context': <azure.ai.ml.entities._system_data.SystemData object at 0x7f7d39a952d0>, 'serialize': <msrest.serialization.Serializer object at 0x7f7d39ad2e00>, 'allowed_keys': {}, 'key_restriction': False, 'logger': <Logger attr_dict (WARNING)>, 'display_name': 'Train Ridge Regression', 'experiment_name': 'ridge-regression', 'compute': 'mlw-basic-cluster-fef66d1bb2', 'services': {'Tracking': {'endpoint': 'azureml://eastus.api.azureml.ms/mlflow/v1.0/subscriptions/dff77bc1-b5fa-4ee5-8789-1b3e3cad1cde/resourceGroups/dp-100/providers/Microsoft.MachineLearningServices/workspaces/mlw-basic-fef66d1bb2?', 'type': 'Tracking'}, 'Studio': {'endpoint': 'https://ml.azure.com/runs/ridge-regression-20231118201023?wsid=/subscriptions/dff77bc1-b5fa-4ee5-8789-1b3e3cad1cde/resourcegroups/dp-100/workspaces/mlw-basic-fef66d1bb2&tid=351e7623-3cdf-4b6d-a023-05accd36a0d4', 'type': 'Studio'}}, 'comment': None, 'job_inputs': {'input_data': {'type': 'mltable', 'path': 'daily-bike-share:2', 'mode': 'direct'}, 'drop_col': 'dteday,yr,hum,windspeed', 'label': 'rentals', 'test_size': '0.25', 'shuffle': 'True', 'alpha': '1.0', 'fit_intercept': 'True', 'tol': '0.0001'}, 'job_outputs': {'ridge_reg_model': {'type': 'mlflow_model', 'name': 'ridge_reg_bicycle', 'mode': 'rw_mount'}, 'default': {'type': 'uri_folder', 'path': 'azureml://datastores/workspaceartifactstore/ExperimentRun/dcid.ridge-regression-20231118201023', 'mode': 'rw_mount'}}, 'inputs': {'input_data': <azure.ai.ml.entities._job.pipeline._io.base.NodeInput object at 0x7f7d39ad1870>, 'drop_col': <azure.ai.ml.entities._job.pipeline._io.base.NodeInput object at 0x7f7d39ad1ae0>, 'label': <azure.ai.ml.entities._job.pipeline._io.base.NodeInput object at 0x7f7d39ad02e0>, 'test_size': <azure.ai.ml.entities._job.pipeline._io.base.NodeInput object at 0x7f7d39ad0220>, 'shuffle': <azure.ai.ml.entities._job.pipeline._io.base.NodeInput object at 0x7f7d39ad1900>, 'alpha': <azure.ai.ml.entities._job.pipeline._io.base.NodeInput object at 0x7f7d39ad3eb0>, 'fit_intercept': <azure.ai.ml.entities._job.pipeline._io.base.NodeInput object at 0x7f7d39ad17b0>, 'tol': <azure.ai.ml.entities._job.pipeline._io.base.NodeInput object at 0x7f7d39ad16c0>}, 'outputs': {'ridge_reg_model': <azure.ai.ml.entities._job.pipeline._io.base.NodeOutput object at 0x7f7d39ad1120>, 'default': <azure.ai.ml.entities._job.pipeline._io.base.NodeOutput object at 0x7f7d39ad1330>}, 'component': CommandComponent({'intellectual_property': None, 'auto_increment_version': True, 'source': 'REMOTE.WORKSPACE.JOB', 'is_anonymous': False, 'auto_delete_setting': None, 'name': 'ridge-regression-20231118201023', 'description': 'Job to train a Ridge Regression model to predict bicycle rentals', 'tags': {'project': 'regression-bicycle'}, 'properties': {}, 'print_as_yaml': True, 'id': None, 'Resource__source_path': None, 'base_path': '/home/chanxingwei/Documents/learn/azure/project/regression-bicycle', 'creation_context': <azure.ai.ml.entities._system_data.SystemData object at 0x7f7d39a952d0>, 'serialize': <msrest.serialization.Serializer object at 0x7f7d39ad0670>, 'command': 'python ridge_regression.py --input_data ${{inputs.input_data}} --output_data ${{outputs.ridge_reg_model}} --drop_col ${{inputs.drop_col}} --label ${{inputs.label}} --test_size ${{inputs.test_size}} --shuffle ${{inputs.shuffle}} --alpha ${{inputs.alpha}} --fit_intercept ${{inputs.fit_intercept}} --tol ${{inputs.tol}}', 'code': '/subscriptions/dff77bc1-b5fa-4ee5-8789-1b3e3cad1cde/resourceGroups/dp-100/providers/Microsoft.MachineLearningServices/workspaces/mlw-basic-fef66d1bb2/codes/03ab6e1b-cdb4-4073-8b34-66c3acb4f78d/versions/1', 'environment_variables': {}, 'environment': '/subscriptions/dff77bc1-b5fa-4ee5-8789-1b3e3cad1cde/resourceGroups/dp-100/providers/Microsoft.MachineLearningServices/workspaces/mlw-basic-fef66d1bb2/environments/sklearn/versions/8', 'distribution': None, 'resources': None, 'queue_settings': None, 'version': None, 'latest_version': None, 'schema': None, 'type': 'command', 'display_name': 'Train Ridge Regression', 'is_deterministic': True, 'inputs': {'input_data': {'type': 'mltable', 'path': '/subscriptions/dff77bc1-b5fa-4ee5-8789-1b3e3cad1cde/resourceGroups/dp-100/providers/Microsoft.MachineLearningServices/workspaces/mlw-basic-fef66d1bb2/data/daily-bike-share/versions/2', 'mode': 'direct'}, 'drop_col': {'type': 'string', 'default': 'dteday,yr,hum,windspeed'}, 'label': {'type': 'string', 'default': 'rentals'}, 'test_size': {'type': 'string', 'default': '0.25'}, 'shuffle': {'type': 'string', 'default': 'True'}, 'alpha': {'type': 'string', 'default': '1.0'}, 'fit_intercept': {'type': 'string', 'default': 'True'}, 'tol': {'type': 'string', 'default': '0.0001'}}, 'outputs': {'ridge_reg_model': {'type': 'mlflow_model', 'name': 'ridge_reg_bicycle', 'mode': 'rw_mount'}, 'default': {'type': 'uri_folder', 'path': 'azureml://datastores/workspaceartifactstore/ExperimentRun/dcid.ridge-regression-20231118201023', 'mode': 'rw_mount'}}, 'yaml_str': None, 'other_parameter': {'status': 'Starting', 'parameters': {}}, 'additional_includes': []}), 'referenced_control_flow_node_instance_id': None, 'kwargs': {'services': {'Tracking': {'endpoint': 'azureml://eastus.api.azureml.ms/mlflow/v1.0/subscriptions/dff77bc1-b5fa-4ee5-8789-1b3e3cad1cde/resourceGroups/dp-100/providers/Microsoft.MachineLearningServices/workspaces/mlw-basic-fef66d1bb2?', 'type': 'Tracking'}, 'Studio': {'endpoint': 'https://ml.azure.com/runs/ridge-regression-20231118201023?wsid=/subscriptions/dff77bc1-b5fa-4ee5-8789-1b3e3cad1cde/resourcegroups/dp-100/workspaces/mlw-basic-fef66d1bb2&tid=351e7623-3cdf-4b6d-a023-05accd36a0d4', 'type': 'Studio'}}, 'status': 'Starting', 'creation_context': <azure.ai.ml.entities._system_data.SystemData object at 0x7f7d39a952d0>}, 'instance_id': 'df6fcb40-e655-40a9-9f72-ca0fa135d067', 'source': 'BUILDER', 'validate_required_input_not_provided': True, 'limits': None, 'identity': None, 'distribution': None, 'environment_variables': {}, 'environment': 'sklearn:8', 'resources': {'instance_count': 1, 'shm_size': '2g'}, 'queue_settings': None, 'swept': False})"
      ]
     },
     "execution_count": 21,
     "metadata": {},
     "output_type": "execute_result"
    }
   ],
   "source": [
    "ridge_reg_job.name = (\n",
    "    ridge_reg_job.name + f\"-{datetime.now().strftime('%Y%m%d%H%M%S')}\"\n",
    ")\n",
    "ml_client.jobs.create_or_update(ridge_reg_job)\n"
   ]
  },
  {
   "cell_type": "markdown",
   "metadata": {},
   "source": [
    "## Sweep Job"
   ]
  },
  {
   "cell_type": "markdown",
   "metadata": {},
   "source": [
    "### Ridge Regression Sweep"
   ]
  },
  {
   "cell_type": "code",
   "execution_count": 22,
   "metadata": {},
   "outputs": [],
   "source": [
    "ridge_reg_job_for_sweep = ridge_reg_job(\n",
    "    test_size=Choice(values=[0.20, 0.25]),\n",
    "    alpha=Choice(values=[1.0, 5.0, 10.0]),\n",
    ")\n"
   ]
  },
  {
   "cell_type": "code",
   "execution_count": 24,
   "metadata": {},
   "outputs": [],
   "source": [
    "ridge_reg__sweep = ridge_reg_job_for_sweep.sweep(\n",
    "    sampling_algorithm=\"grid\",\n",
    "    primary_metric=\"Ridge_score_X_test\",\n",
    "    goal=\"Maximize\",\n",
    ")\n",
    "ridge_reg__sweep.set_limits(max_concurrent_trials=2)\n"
   ]
  },
  {
   "cell_type": "markdown",
   "metadata": {},
   "source": [
    "### Submit Sweep Job"
   ]
  },
  {
   "cell_type": "code",
   "execution_count": 25,
   "metadata": {},
   "outputs": [
    {
     "data": {
      "text/html": [
       "<table style=\"width:100%\"><tr><th>Experiment</th><th>Name</th><th>Type</th><th>Status</th><th>Details Page</th></tr><tr><td>regression-bicycle</td><td>silly_energy_cwlbpk91sv</td><td>sweep</td><td>Running</td><td><a href=\"https://ml.azure.com/runs/silly_energy_cwlbpk91sv?wsid=/subscriptions/dff77bc1-b5fa-4ee5-8789-1b3e3cad1cde/resourcegroups/dp-100/workspaces/mlw-basic-fef66d1bb2&amp;tid=351e7623-3cdf-4b6d-a023-05accd36a0d4\" target=\"_blank\" rel=\"noopener\">Link to Azure Machine Learning studio</a></td></tr></table>"
      ],
      "text/plain": [
       "SweepJob({'type': 'sweep', 'status': 'Running', 'log_files': None, 'name': 'silly_energy_cwlbpk91sv', 'description': None, 'tags': {'_aml_system_max_concurrent_jobs': '2', '_aml_system_max_total_jobs': '1000', '_aml_system_max_duration_minutes': '86400', '_aml_system_policy_config': '{\"name\":\"Default\",\"properties\":{}}', '_aml_system_generator_config': '{\"name\":\"GRID\",\"parameter_space\":{\"test_size\":[\"choice\",[[0.2,0.25]]],\"alpha\":[\"choice\",[[1.0,5.0,10.0]]]},\"properties\":{}}', '_aml_system_primary_metric_config': '{\"name\":\"Ridge_score_X_test\",\"goal\":\"maximize\"}', '_aml_system_platform_config': '{\"ServiceAddress\":\"https://eastus.api.azureml.ms\",\"SubscriptionId\":\"dff77bc1-b5fa-4ee5-8789-1b3e3cad1cde\",\"ResourceGroupName\":\"dp-100\",\"WorkspaceName\":\"mlw-basic-fef66d1bb2\",\"ExperimentName\":\"regression-bicycle\",\"Definition\":{\"Configuration\":null,\"Attribution\":null,\"TelemetryValues\":null,\"Overrides\":{\"Script\":null,\"Command\":\"python ridge_regression.py --input_data ${{inputs.input_data}} --output_data ${{outputs.ridge_reg_model}} --drop_col ${{inputs.drop_col}} --label ${{inputs.label}} --test_size ${{search_space.test_size}} --shuffle ${{inputs.shuffle}} --alpha ${{search_space.alpha}} --fit_intercept ${{inputs.fit_intercept}} --tol ${{inputs.tol}}\",\"UseAbsolutePath\":true,\"Arguments\":[],\"SourceDirectoryDataStore\":null,\"Framework\":0,\"Target\":\"mlw-basic-cluster-fef66d1bb2\",\"DataReferences\":{},\"Data\":{\"input_data\":{\"DataLocation\":{\"Dataset\":null,\"DataPath\":null,\"Uri\":{\"Path\":\"/subscriptions/dff77bc1-b5fa-4ee5-8789-1b3e3cad1cde/resourceGroups/dp-100/providers/Microsoft.MachineLearningServices/workspaces/mlw-basic-fef66d1bb2/data/daily-bike-share/versions/2\",\"IsFile\":false},\"Type\":\"MLTable\"},\"Mechanism\":\"Direct\",\"EnvironmentVariableName\":\"AZURE_ML_INPUT_input_data\",\"PathOnCompute\":null,\"Overwrite\":false,\"Options\":{\"IsEvalMode\":\"False\",\"ReadWrite\":null,\"ForceFolder\":\"True\"}}},\"InputAssets\":{\"input_data\":{\"Asset\":{\"AssetId\":\"azureml://locations/eastus/workspaces/f773f86f-4964-41c0-b8a7-20c4b0d1c3ea/data/daily-bike-share/versions/2\",\"Type\":\"MLTable\"},\"Mechanism\":\"Direct\",\"EnvironmentVariableName\":\"AZURE_ML_INPUT_input_data\",\"PathOnCompute\":null,\"Overwrite\":false,\"Options\":{\"IsEvalMode\":\"False\",\"ReadWrite\":null,\"ForceFolder\":\"True\"}}},\"OutputData\":{\"ridge_reg_model\":{\"OutputLocation\":{\"Dataset\":null,\"DataPath\":null,\"Uri\":{\"Path\":null,\"IsFile\":false},\"Type\":\"MLFlowModel\"},\"Mechanism\":\"Mount\",\"AdditionalOptions\":{\"PathOnCompute\":null,\"RegistrationOptions\":{\"Name\":\"ridge_reg_bicycle\",\"Description\":null,\"Tags\":null,\"DatasetRegistrationOptions\":null},\"UploadOptions\":null,\"MountOptions\":null},\"EnvironmentVariableName\":null}},\"Datacaches\":[],\"JobName\":null,\"MaxRunDurationSeconds\":null,\"NodeCount\":1,\"InstanceTypes\":[],\"Priority\":null,\"CredentialPassthrough\":false,\"Identity\":null,\"Environment\":{\"Name\":\"sklearn\",\"Version\":\"8\",\"AssetId\":\"azureml://locations/eastus/workspaces/f773f86f-4964-41c0-b8a7-20c4b0d1c3ea/environments/sklearn/versions/8\",\"AutoRebuild\":false,\"Python\":{\"InterpreterPath\":null,\"UserManagedDependencies\":true,\"CondaDependencies\":null,\"BaseCondaEnvironment\":null},\"EnvironmentVariables\":{},\"Docker\":{\"BaseImage\":\"docker.io/pi31416chan/az-sklearn:latest\",\"Platform\":{\"Os\":\"Linux\",\"Architecture\":\"amd64\"},\"BaseDockerfile\":null,\"BaseImageRegistry\":null},\"Spark\":{\"Repositories\":[],\"Packages\":[],\"PrecachePackages\":true},\"InferencingStackVersion\":null},\"History\":{\"OutputCollection\":true,\"DirectoriesToWatch\":[\"logs\"],\"EnableMLflowTracking\":true},\"Spark\":{\"Configuration\":{}},\"ParallelTask\":{\"MaxRetriesPerWorker\":0,\"WorkerCountPerNode\":1,\"TerminalExitCodes\":null,\"Configuration\":{}},\"BatchAi\":{\"NodeCount\":0},\"AmlCompute\":{\"Name\":null,\"VmSize\":null,\"RetainCluster\":false,\"ClusterMaxNodeCount\":null},\"AISuperComputer\":{\"InstanceType\":\"D2\",\"FrameworkImage\":null,\"ImageVersion\":null,\"Location\":null,\"AISuperComputerStorageData\":null,\"Interactive\":false,\"ScalePolicy\":null,\"VirtualClusterArmId\":null,\"TensorboardLogDirectory\":null,\"SSHPublicKey\":null,\"SSHPublicKeys\":null,\"EnableAzmlInt\":true,\"Priority\":\"Medium\",\"SLATier\":\"Standard\",\"UserAlias\":null},\"KubernetesCompute\":{\"InstanceType\":null},\"Tensorflow\":{\"WorkerCount\":0,\"ParameterServerCount\":0},\"Mpi\":{\"ProcessCountPerNode\":0},\"PyTorch\":{\"CommunicationBackend\":null,\"ProcessCount\":null},\"Hdi\":{\"YarnDeployMode\":0},\"ContainerInstance\":{\"Region\":null,\"CpuCores\":2.0,\"MemoryGb\":3.5},\"ExposedPorts\":null,\"Docker\":{\"UseDocker\":true,\"SharedVolumes\":null,\"ShmSize\":\"2g\",\"Arguments\":null},\"Cmk8sCompute\":{\"Configuration\":{}},\"CommandReturnCodeConfig\":{\"ReturnCode\":0,\"SuccessfulReturnCodes\":[]},\"EnvironmentVariables\":{},\"ApplicationEndpoints\":{},\"Parameters\":[{\"Name\":\"drop_col\",\"Type\":null,\"Value\":\"dteday,yr,hum,windspeed\",\"IsOptional\":false},{\"Name\":\"label\",\"Type\":null,\"Value\":\"rentals\",\"IsOptional\":false},{\"Name\":\"shuffle\",\"Type\":null,\"Value\":\"True\",\"IsOptional\":false},{\"Name\":\"fit_intercept\",\"Type\":null,\"Value\":\"True\",\"IsOptional\":false},{\"Name\":\"tol\",\"Type\":null,\"Value\":\"0.0001\",\"IsOptional\":false}]},\"SnapshotId\":\"08e09bff-1111-4675-bb8f-cae0a57bed9f\",\"Snapshots\":[],\"SourceCodeDataReference\":null,\"ParentRunId\":null,\"DataContainerId\":null,\"RunType\":null,\"DisplayName\":\"Train Ridge Regression\",\"EnvironmentAssetId\":null,\"Properties\":{},\"Tags\":{\"project\":\"regression-bicycle\"},\"AggregatedArtifactPath\":null},\"ParentRunId\":\"silly_energy_cwlbpk91sv\"}', '_aml_system_resume_child_runs': 'null', '_aml_system_all_jobs_generated': 'false', '_aml_system_cancellation_requested': 'false', '_aml_system_samples_generated_count': '0', 'project': 'regression-bicycle'}, 'properties': {'primary_metric_config': '{\"name\":\"Ridge_score_X_test\",\"goal\":\"maximize\"}', 'resume_from': 'null', 'runTemplate': 'HyperDrive', 'azureml.runsource': 'hyperdrive', 'platform': 'AML', 'ContentSnapshotId': '08e09bff-1111-4675-bb8f-cae0a57bed9f', 'user_agent': 'managementfrontend/101aadc18f19f03a0262f68cdfc0d3864550eca1'}, 'print_as_yaml': True, 'id': '/subscriptions/dff77bc1-b5fa-4ee5-8789-1b3e3cad1cde/resourceGroups/dp-100/providers/Microsoft.MachineLearningServices/workspaces/mlw-basic-fef66d1bb2/jobs/silly_energy_cwlbpk91sv', 'Resource__source_path': None, 'base_path': '/home/chanxingwei/Documents/learn/azure/project/regression-bicycle', 'creation_context': <azure.ai.ml.entities._system_data.SystemData object at 0x7f7d39ad0dc0>, 'serialize': <msrest.serialization.Serializer object at 0x7f7d39ad2830>, 'sampling_algorithm': <azure.ai.ml.entities._job.sweep.sampling_algorithm.RandomSamplingAlgorithm object at 0x7f7d39a10ac0>, 'early_termination': None, 'limits': <azure.ai.ml.entities._job.job_limits.SweepJobLimits object at 0x7f7d39ad2590>, 'search_space': {'test_size': <azure.ai.ml.entities._job.sweep.search_space.Choice object at 0x7f7d39ad2440>, 'alpha': <azure.ai.ml.entities._job.sweep.search_space.Choice object at 0x7f7d39ad2680>}, 'queue_settings': None, 'objective': <azure.ai.ml._restclient.v2023_04_01_preview.models._models_py3.Objective object at 0x7f7d39ad1d20>, 'display_name': 'Train Ridge Regression', 'experiment_name': 'regression-bicycle', 'compute': 'mlw-basic-cluster-fef66d1bb2', 'services': {'Studio': <azure.ai.ml._restclient.v2023_04_01_preview.models._models_py3.JobService object at 0x7f7d39ad2f80>}, 'inputs': {'input_data': {'type': 'mltable', 'path': 'azureml://locations/eastus/workspaces/f773f86f-4964-41c0-b8a7-20c4b0d1c3ea/data/daily-bike-share/versions/2', 'mode': 'direct'}, 'drop_col': 'dteday,yr,hum,windspeed', 'label': 'rentals', 'shuffle': 'True', 'fit_intercept': 'True', 'tol': '0.0001'}, 'outputs': {'ridge_reg_model': {'type': 'mlflow_model', 'mode': 'rw_mount'}, 'default': {'type': 'uri_folder', 'path': 'azureml://datastores/workspaceartifactstore/ExperimentRun/dcid.silly_energy_cwlbpk91sv', 'mode': 'rw_mount'}}, 'trial': <azure.ai.ml.entities._job.parameterized_command.ParameterizedCommand object at 0x7f7d39ad1fc0>, 'identity': None})"
      ]
     },
     "execution_count": 25,
     "metadata": {},
     "output_type": "execute_result"
    }
   ],
   "source": [
    "ml_client.create_or_update(ridge_reg__sweep)\n"
   ]
  }
 ],
 "metadata": {
  "kernelspec": {
   "display_name": "ve_dp100",
   "language": "python",
   "name": "python3"
  },
  "language_info": {
   "codemirror_mode": {
    "name": "ipython",
    "version": 3
   },
   "file_extension": ".py",
   "mimetype": "text/x-python",
   "name": "python",
   "nbconvert_exporter": "python",
   "pygments_lexer": "ipython3",
   "version": "3.10.12"
  }
 },
 "nbformat": 4,
 "nbformat_minor": 2
}
